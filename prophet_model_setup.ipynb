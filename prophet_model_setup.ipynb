{
 "cells": [
  {
   "cell_type": "code",
   "execution_count": null,
   "id": "8b3fb4a3",
   "metadata": {},
   "outputs": [],
   "source": [
    "\n",
    "import pandas as pd\n",
    "from prophet import Prophet\n",
    "import matplotlib.pyplot as plt\n"
   ]
  },
  {
   "cell_type": "code",
   "execution_count": null,
   "id": "b4306836",
   "metadata": {},
   "outputs": [],
   "source": [
    "\n",
    "# Load the CSV file\n",
    "file_path = 'aggregated2.csv'  # Assuming the file will be in the same directory as the notebook\n",
    "data = pd.read_csv(file_path, header=None, names=['ds', 'y'])\n",
    "\n",
    "# Convert the 'ds' column to datetime format\n",
    "data['ds'] = pd.to_datetime(data['ds'])\n"
   ]
  },
  {
   "cell_type": "code",
   "execution_count": null,
   "id": "898d1b23",
   "metadata": {},
   "outputs": [],
   "source": [
    "\n",
    "# Initialize the Prophet model\n",
    "model = Prophet()\n",
    "\n",
    "# Fit the model with the data\n",
    "model.fit(data)\n"
   ]
  },
  {
   "cell_type": "code",
   "execution_count": null,
   "id": "bf27a348",
   "metadata": {},
   "outputs": [],
   "source": [
    "\n",
    "# Create a future dataframe for the next 24 hours at 5-minute intervals\n",
    "future = model.make_future_dataframe(periods=288, freq='5min')\n",
    "\n",
    "# Predict the future\n",
    "forecast = model.predict(future)\n",
    "\n",
    "# Plot the forecast\n",
    "fig1 = model.plot(forecast)\n",
    "plt.show()\n",
    "\n",
    "# Plot components\n",
    "fig2 = model.plot_components(forecast)\n",
    "plt.show()\n"
   ]
  }
 ],
 "metadata": {},
 "nbformat": 4,
 "nbformat_minor": 5
}

{
 "cells": [
  {
   "cell_type": "code",
   "execution_count": null,
   "id": "45380667",
   "metadata": {},
   "outputs": [],
   "source": [
    "\n",
    "# Prophet Time Series Modeling Example\n",
    "\n",
    "# Import necessary libraries\n",
    "import pandas as pd\n",
    "from prophet import Prophet\n",
    "import matplotlib.pyplot as plt\n",
    "\n",
    "# Load a sample dataset\n",
    "# Note: Replace this with your own dataset\n",
    "url = 'https://raw.githubusercontent.com/jbrownlee/Datasets/master/airline-passengers.csv'\n",
    "df = pd.read_csv(url)\n",
    "df.columns = ['ds', 'y']\n",
    "df['ds'] = pd.to_datetime(df['ds'])\n",
    "\n",
    "# Fit the Prophet model\n",
    "model = Prophet()\n",
    "model.fit(df)\n",
    "\n",
    "# Make future dataframe for predictions\n",
    "future = model.make_future_dataframe(periods=12, freq='M')\n",
    "\n",
    "# Predict\n",
    "forecast = model.predict(future)\n",
    "\n",
    "# Plot the forecast\n",
    "fig1 = model.plot(forecast)\n",
    "plt.show()\n",
    "\n",
    "# Plot components\n",
    "fig2 = model.plot_components(forecast)\n",
    "plt.show()\n"
   ]
  }
 ],
 "metadata": {},
 "nbformat": 4,
 "nbformat_minor": 5
}
